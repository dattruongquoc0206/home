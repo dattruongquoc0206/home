{
  "nbformat": 4,
  "nbformat_minor": 0,
  "metadata": {
    "colab": {
      "provenance": [],
      "collapsed_sections": []
    },
    "kernelspec": {
      "name": "python3",
      "display_name": "Python 3"
    },
    "language_info": {
      "name": "python"
    }
  },
  "cells": [
    {
      "cell_type": "code",
      "execution_count": null,
      "metadata": {
        "colab": {
          "base_uri": "https://localhost:8080/"
        },
        "id": "F396w1SBC9sg",
        "outputId": "bc02de5a-3eab-407d-ec25-146b2eef3d36"
      },
      "outputs": [
        {
          "output_type": "stream",
          "name": "stdout",
          "text": [
            "Plain Text: CEASER CIPHER DEMO\n",
            "Shift pattern:4\n",
            "Cipher: GIEWIVrGMTLIVrHIQS\n"
          ]
        }
      ],
      "source": [
        "def encrypt(text, s):\n",
        "  result = \"\"\n",
        "  for i in range(len(text)):\n",
        "    char = text[i]\n",
        "    if (char.isupper()):\n",
        "      result += chr((ord(char) + s-65) % 26 + 65)\n",
        "    else:\n",
        "      result += chr((ord(char) + s - 97) % 26 + 97)\n",
        "  return result\n",
        "text = \"CEASER CIPHER DEMO\"\n",
        "s=4\n",
        "\n",
        "print(\"Plain Text: \"+text)\n",
        "print(\"Shift pattern:\" +str(s))\n",
        "print(\"Cipher: \"+encrypt(text,s))"
      ]
    }
  ]
}